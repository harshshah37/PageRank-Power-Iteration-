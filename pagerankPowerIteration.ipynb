{
 "cells": [
  {
   "cell_type": "code",
   "execution_count": 1,
   "id": "32e963d7-2b3a-4087-be8f-de47eb003a25",
   "metadata": {},
   "outputs": [],
   "source": [
    "#The outputs displayed in this file are for the facebook network dataset\n",
    "\n",
    "#The inputs and outputs for self-testing have been stored in Input_a.txt and Output_a.txt respectively\n",
    "#The inputs and outputs for toy example have been stored in Input_b.txt and Output_b.txt respectively\n",
    "#The inputs and outputs for facebook network dataset have been stored in Input_c.txt and Output_c.txt respectively"
   ]
  },
  {
   "cell_type": "code",
   "execution_count": 2,
   "id": "6002d8e0-e544-4101-948f-7f0f195c50ec",
   "metadata": {},
   "outputs": [],
   "source": [
    "import pandas as pd\n",
    "import numpy as np\n",
    "import sys"
   ]
  },
  {
   "cell_type": "code",
   "execution_count": 3,
   "id": "62ac62a0-0768-4bc6-89c4-3d3cc74c9dae",
   "metadata": {},
   "outputs": [
    {
     "name": "stdin",
     "output_type": "stream",
     "text": [
      "Is your graph directed or undirected. Enter 'D' for Directed Graph and 'UD' for Undirected Graph: \n",
      " UD\n"
     ]
    }
   ],
   "source": [
    "graph = input(\"Is your graph directed or undirected. Enter 'D' for Directed Graph and 'UD' for Undirected Graph: \\n\")"
   ]
  },
  {
   "cell_type": "code",
   "execution_count": 4,
   "id": "1ec00d3f-289b-4466-95d5-d2c39306e3a2",
   "metadata": {},
   "outputs": [
    {
     "name": "stdin",
     "output_type": "stream",
     "text": [
      "Enter the path where you want to save the input file (including the filename and extension):  /Users/harshshah/Downloads/Input_a.txt\n"
     ]
    },
    {
     "name": "stdout",
     "output_type": "stream",
     "text": [
      "  Outgoing Link Incoming Link\n",
      "0             A             Y\n",
      "1             A             M\n",
      "2             Y             Y\n",
      "3             Y             A\n",
      "4             M             A\n",
      "5             Y             A\n",
      "6             M             A\n",
      "7             Y             Y\n",
      "8             A             Y\n",
      "9             A             M\n"
     ]
    }
   ],
   "source": [
    "#Storing the user input as a text file \n",
    "if graph == 'D':\n",
    "    def get_input():\n",
    "        print(\"Enter the text you want to store in the file. Press 0 to finish.\")\n",
    "        lines = []\n",
    "        while True:\n",
    "            line = input()\n",
    "            if line == '0':\n",
    "                break\n",
    "            lines.append(line)\n",
    "        return '\\n'.join(lines)\n",
    "\n",
    "    def save_to_file(content, file_path):\n",
    "        with open(file_path, 'w') as file:\n",
    "            file.write(content)\n",
    "\n",
    "    user_input = get_input()\n",
    "\n",
    "    file_path = input(\"Enter the path where you want to save the input file (including the filename and extension): \")\n",
    "\n",
    "    try:\n",
    "        save_to_file(user_input, file_path)\n",
    "        print(f\"Content saved to '{file_path}' successfully.\")\n",
    "    except Exception as e:\n",
    "        print(f\"An error occurred: {e}\")\n",
    "\n",
    "    #Creating a dataframe of the output and input nodes\n",
    "    custom_headers = ['Outgoing Link', 'Incoming Link']\n",
    "    df = pd.read_csv(file_path, header=None, names=custom_headers, sep=' ')\n",
    "\n",
    "    print(df)\n",
    "\n",
    "\n",
    "elif graph == 'UD':\n",
    "    file_path = input(\"Enter the path where you want to save the input file (including the filename and extension): \")\n",
    "\n",
    "    custom_headers = ['Outgoing Link', 'Incoming Link']\n",
    "    df = pd.read_csv(file_path, header=None, names=custom_headers, sep=' ')\n",
    "\n",
    "    #Since this is for undirected graph, we have to consider two links for every relationship\n",
    "    new_rows = df.copy()\n",
    "    new_rows['Incoming Link'] = df['Outgoing Link']\n",
    "    new_rows['Outgoing Link'] = df['Incoming Link']\n",
    "\n",
    "    df = pd.concat([df, new_rows], ignore_index=True)\n",
    "    \n",
    "    print(df)"
   ]
  },
  {
   "cell_type": "code",
   "execution_count": 5,
   "id": "276d4c2e-299c-4606-8dfe-6afe89d75bc0",
   "metadata": {},
   "outputs": [
    {
     "name": "stdout",
     "output_type": "stream",
     "text": [
      "     A    Y    M\n",
      "A  0.0  0.0  0.0\n",
      "Y  0.0  0.0  0.0\n",
      "M  0.0  0.0  0.0\n"
     ]
    }
   ],
   "source": [
    "#Creating a dataframe with outgoing nodes as columns and incoming nodes as rows\n",
    "unique_values_column1 = df['Outgoing Link'].unique().tolist()\n",
    "\n",
    "new_df = pd.DataFrame(0, index=unique_values_column1, columns=unique_values_column1, dtype=float)\n",
    "\n",
    "print(new_df)"
   ]
  },
  {
   "cell_type": "code",
   "execution_count": 6,
   "id": "82709171-9e38-435d-b5b0-aeb2035b2b8f",
   "metadata": {},
   "outputs": [
    {
     "name": "stdout",
     "output_type": "stream",
     "text": [
      "Outgoing Link\n",
      "A    4\n",
      "Y    4\n",
      "M    2\n",
      "Name: count, dtype: int64\n"
     ]
    }
   ],
   "source": [
    "#Counting the out-degree for each node\n",
    "counts_column1 = df['Outgoing Link'].value_counts()\n",
    "\n",
    "print(counts_column1)"
   ]
  },
  {
   "cell_type": "code",
   "execution_count": 7,
   "id": "8d3a42a9-58fb-4c21-ad84-b97dfc2e1edf",
   "metadata": {},
   "outputs": [],
   "source": [
    "#Dividing 1 by the out-degree count for each node and assigning that value\n",
    "counts_column1 = df['Outgoing Link'].value_counts()\n",
    "\n",
    "counts_dict_column1 = counts_column1.to_dict()\n",
    "\n",
    "for key in counts_dict_column1:\n",
    "    counts_dict_column1[key] = 1/counts_dict_column1[key]"
   ]
  },
  {
   "cell_type": "code",
   "execution_count": 8,
   "id": "db547f74-6a57-4c46-a84f-d447dc4684f6",
   "metadata": {},
   "outputs": [
    {
     "name": "stdout",
     "output_type": "stream",
     "text": [
      "      A     Y    M\n",
      "A  0.00  0.25  0.5\n",
      "Y  0.25  0.25  0.0\n",
      "M  0.25  0.00  0.0\n"
     ]
    }
   ],
   "source": [
    "#Creating a dataframe by inserting all the values for the incoming and outgoing nodes.\n",
    "for i in range(len(df)):\n",
    "    a = df['Outgoing Link'][i]\n",
    "    b = df['Incoming Link'][i]\n",
    "    new_df[a][b] = counts_dict_column1[a]\n",
    "\n",
    "print(new_df)"
   ]
  },
  {
   "cell_type": "code",
   "execution_count": 9,
   "id": "0464a5db-93ac-4dce-975b-ad5fa3bb76fa",
   "metadata": {},
   "outputs": [
    {
     "name": "stdout",
     "output_type": "stream",
     "text": [
      "[[0.   0.25 0.5 ]\n",
      " [0.25 0.25 0.  ]\n",
      " [0.25 0.   0.  ]]\n"
     ]
    }
   ],
   "source": [
    "M = new_df.to_numpy()\n",
    "\n",
    "print(M)"
   ]
  },
  {
   "cell_type": "code",
   "execution_count": 10,
   "id": "e980e723-57f3-4a8a-bf36-3e49b313067e",
   "metadata": {},
   "outputs": [
    {
     "name": "stdout",
     "output_type": "stream",
     "text": [
      "[[0.33333333]\n",
      " [0.33333333]\n",
      " [0.33333333]]\n"
     ]
    }
   ],
   "source": [
    "#Each node has an equal probability of being the start node. So assigning equal probability to each node.\n",
    "r_t1 = np.full((len(new_df), 1), 1/len(new_df))\n",
    "\n",
    "print(r_t1)"
   ]
  },
  {
   "cell_type": "code",
   "execution_count": 11,
   "id": "4bbb1315-0ad3-4c5f-aca6-4382974babb8",
   "metadata": {},
   "outputs": [],
   "source": [
    "#Actual calculation of the PageRank for each node by using the Power Iteration method\n",
    "def distance(Matrix, r1):\n",
    "    e = sys.float_info.epsilon\n",
    "    z = 1\n",
    "    while(z >= e):\n",
    "        r2 = np.matmul(Matrix, r1)\n",
    "        z = np.linalg.norm(r2 - r1)\n",
    "        \n",
    "        if z < e:\n",
    "            return r2\n",
    "            break\n",
    "        else: r1 = r2"
   ]
  },
  {
   "cell_type": "code",
   "execution_count": 12,
   "id": "6d0c68ad-4bb2-46c8-b09a-58e41f49378e",
   "metadata": {},
   "outputs": [
    {
     "name": "stdout",
     "output_type": "stream",
     "text": [
      "[[8.88174501e-17]\n",
      " [8.88179916e-17]\n",
      " [4.44091632e-17]]\n"
     ]
    }
   ],
   "source": [
    "final = distance(M, r_t1)\n",
    "\n",
    "print(final)"
   ]
  },
  {
   "cell_type": "code",
   "execution_count": 13,
   "id": "64b6858c-7ed5-450f-b22d-a39b17a5d756",
   "metadata": {},
   "outputs": [
    {
     "name": "stdout",
     "output_type": "stream",
     "text": [
      "           Rank\n",
      "A  8.881745e-17\n",
      "Y  8.881799e-17\n",
      "M  4.440916e-17\n"
     ]
    }
   ],
   "source": [
    "final_df = pd.DataFrame(data = final, index = unique_values_column1, columns = ['Rank'])\n",
    "\n",
    "print(final_df)"
   ]
  },
  {
   "cell_type": "code",
   "execution_count": 14,
   "id": "de526e59-369e-454a-8ebd-e70f2d4de612",
   "metadata": {},
   "outputs": [
    {
     "name": "stdout",
     "output_type": "stream",
     "text": [
      "           Rank\n",
      "Y  8.881799e-17\n",
      "A  8.881745e-17\n",
      "M  4.440916e-17\n"
     ]
    }
   ],
   "source": [
    "#Final sorted dataframe in descending order of ranks \n",
    "final_sorted_df = final_df.sort_values(by='Rank', ascending=False)\n",
    "\n",
    "print(final_sorted_df)"
   ]
  },
  {
   "cell_type": "code",
   "execution_count": 15,
   "id": "26fc4b11-378b-4fe8-8018-1d8818e91d41",
   "metadata": {},
   "outputs": [
    {
     "name": "stdout",
     "output_type": "stream",
     "text": [
      "The sum of Ranks of all the nodes is 2.2204460492503128e-16 which when rounded off is 0.\n"
     ]
    }
   ],
   "source": [
    "#The sum of all ranks should be equal to 1. Verifying that.\n",
    "#Rounding the final answer since sometimes for very large graphs, sum might be equal to 0.9999... which is basically 1.\n",
    "#The sum is 0.9999... sometimes because of decimal multiplication\n",
    "\n",
    "column_sum = final_sorted_df['Rank'].sum()\n",
    "\n",
    "print(f\"The sum of Ranks of all the nodes is {column_sum} which when rounded off is {round(column_sum)}.\")"
   ]
  },
  {
   "cell_type": "code",
   "execution_count": 16,
   "id": "1ea8f04b-66bb-4908-bd0c-efb4ab450eaa",
   "metadata": {},
   "outputs": [
    {
     "name": "stdin",
     "output_type": "stream",
     "text": [
      "Enter the path where you want to save the output file (including the filename and extension):  /Users/harshshah/Downloads/Output_c.txt\n"
     ]
    },
    {
     "name": "stdout",
     "output_type": "stream",
     "text": [
      "Content saved to '/Users/harshshah/Downloads/Output_c.txt' successfully.\n"
     ]
    }
   ],
   "source": [
    "#Storing the output to a text file\n",
    "file_path_op = input(\"Enter the path where you want to save the output file (including the filename and extension): \") \n",
    "\n",
    "try:\n",
    "    final_sorted_df.to_csv(file_path_op, index = True, sep = ' ', header = False, float_format = '%.6f')\n",
    "    print(f\"Content saved to '{file_path_op}' successfully.\")\n",
    "except Exception as e:\n",
    "    print(f\"An error occurred: {e}\")"
   ]
  }
 ],
 "metadata": {
  "kernelspec": {
   "display_name": "Python 3 (ipykernel)",
   "language": "python",
   "name": "python3"
  },
  "language_info": {
   "codemirror_mode": {
    "name": "ipython",
    "version": 3
   },
   "file_extension": ".py",
   "mimetype": "text/x-python",
   "name": "python",
   "nbconvert_exporter": "python",
   "pygments_lexer": "ipython3",
   "version": "3.11.5"
  }
 },
 "nbformat": 4,
 "nbformat_minor": 5
}
